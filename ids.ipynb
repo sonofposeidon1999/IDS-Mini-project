{
 "cells": [
  {
   "cell_type": "code",
   "execution_count": 1,
   "metadata": {
    "collapsed": false
   },
   "outputs": [],
   "source": [
    "import pandas as pd\n",
    "import numpy as np"
   ]
  },
  {
   "cell_type": "code",
   "execution_count": 2,
   "metadata": {
    "collapsed": false
   },
   "outputs": [],
   "source": [
    "file=pd.read_csv('/Users/Daksha Singhal/Desktop/Dream Hokage/Sem-3/2. Data Science/Project/1645 E ROOSEVELT ST-CENTRAL PHOENIX STN.csv')"
   ]
  },
  {
   "cell_type": "code",
   "execution_count": 3,
   "metadata": {
    "collapsed": false
   },
   "outputs": [],
   "source": [
    "file=file.drop(['State Code','County Code','County','Site Num'],axis=1)"
   ]
  },
  {
   "cell_type": "code",
   "execution_count": 5,
   "metadata": {
    "collapsed": false
   },
   "outputs": [],
   "source": [
    "file.to_csv('/Users/Daksha Singhal/Desktop/Dream Hokage/Sem-3/2. Data Science/Project/1645 E ROOSEVELT ST-CENTRAL PHOENIX STN-1.csv')"
   ]
  },
  {
   "cell_type": "code",
   "execution_count": 13,
   "metadata": {
    "collapsed": false
   },
   "outputs": [],
   "source": [
    "file['SO2 AQI']=file['SO2 AQI'].fillna('missing')\n",
    "for i in range(len(file['SO2 AQI'])):\n",
    "    if(file['SO2 AQI'][i]=='missing'):\n",
    "        file['SO2 AQI'][i]=file['SO2 AQI'][i-2]"
   ]
  },
  {
   "cell_type": "code",
   "execution_count": 14,
   "metadata": {
    "collapsed": false
   },
   "outputs": [],
   "source": [
    "file['CO AQI']=file['CO AQI'].fillna('missing')\n",
    "for i in range(len(file['CO AQI'])):\n",
    "    if(file['CO AQI'][i]=='missing'):\n",
    "        file['CO AQI'][i]=file['CO AQI'][i+1]"
   ]
  },
  {
   "cell_type": "code",
   "execution_count": 15,
   "metadata": {
    "collapsed": false
   },
   "outputs": [],
   "source": [
    "file.to_csv('/Users/Daksha Singhal/Desktop/Dream Hokage/Sem-3/2. Data Science/Project/1645 E ROOSEVELT ST-CENTRAL PHOENIX STN-missing.csv')"
   ]
  },
  {
   "cell_type": "code",
   "execution_count": null,
   "metadata": {
    "collapsed": false
   },
   "outputs": [],
   "source": [
    " file['NO2 Mean'].mean()"
   ]
  },
  {
   "cell_type": "code",
   "execution_count": null,
   "metadata": {
    "collapsed": true
   },
   "outputs": [],
   "source": []
  }
 ],
 "metadata": {
  "anaconda-cloud": {},
  "kernelspec": {
   "display_name": "Python [conda root]",
   "language": "python",
   "name": "conda-root-py"
  },
  "language_info": {
   "codemirror_mode": {
    "name": "ipython",
    "version": 3
   },
   "file_extension": ".py",
   "mimetype": "text/x-python",
   "name": "python",
   "nbconvert_exporter": "python",
   "pygments_lexer": "ipython3",
   "version": "3.5.6"
  }
 },
 "nbformat": 4,
 "nbformat_minor": 1
}
